{
 "cells": [
  {
   "cell_type": "markdown",
   "metadata": {},
   "source": [
    "## **GNR 650:** Advanced topics in deep learning for image analysis\n",
    "### **Assignment 2:** Fine tuning a pre-trained Vision Transformer (B-12) on EuroSAT dataset\n",
    "> The task is to use a pre-trained ViT like B-12, and prepare four models with the following fine-tuning strategies. Then visualize and compare the intermediate feature responses of all the four models using train/test split of the [EuroSAT](https://www.tensorflow.org/datasets/catalog/eurosat) dataset.\n",
    "> 1. Fine tuning the final layer \n",
    "> 2. Fine tuning the bottom layers \n",
    "> 3. Full fine tune on the eurosat data \n",
    "> 4. No fine tuning\n",
    "\n",
    "### Collaborators: \n",
    "[![Munish](https://img.shields.io/badge/22M2153-Munish_Monga-blue)](https://github.com/munish30monga)\n",
    "[![Aniket](https://img.shields.io/badge/22M2162-Aniket_Thomas-darkgreen)](https://github.com/AniTho)\n",
    "\n",
    "### Table of Contents:\n",
    "1. [Introduction](#introduction)\n",
    "2. [Imporing Libraries](#imporing-libraries)\n",
    "3. [Hyperparameters](#hyperparameters)\n"
   ]
  },
  {
   "cell_type": "markdown",
   "metadata": {},
   "source": [
    "### Introduction"
   ]
  },
  {
   "cell_type": "markdown",
   "metadata": {},
   "source": [
    "### Imporing Libraries"
   ]
  },
  {
   "cell_type": "code",
   "execution_count": 1,
   "metadata": {},
   "outputs": [],
   "source": [
    "import torch\n",
    "from torchvision import models\n",
    "from torchvision import datasets\n",
    "from torchvision import transforms\n",
    "from torch import nn\n",
    "from torch import optim\n",
    "from torch.utils.data import DataLoader, Dataset\n",
    "from torchsummary import summary\n",
    "from tqdm import tqdm\n",
    "import numpy as np\n",
    "import matplotlib.pyplot as plt\n",
    "import seaborn as sns\n",
    "import random\n",
    "from PIL import Image\n",
    "import warnings\n",
    "warnings.filterwarnings('ignore')"
   ]
  },
  {
   "cell_type": "markdown",
   "metadata": {},
   "source": [
    "### Hyperparameters <a class=\"anchor\" id=\"#hyperparameters\"></a>"
   ]
  },
  {
   "cell_type": "code",
   "execution_count": 2,
   "metadata": {},
   "outputs": [],
   "source": [
    "mean = np.array([0.5, 0.5, 0.5])\n",
    "std = np.array([0.5, 0.5, 0.5])\n",
    "inv_mean = -mean\n",
    "inv_std = 1/std\n",
    "max_n = 100\n",
    "batch_size = 32\n",
    "learning_rate = 0.001\n",
    "device = 'cuda' if torch.cuda.is_available() else 'cpu'\n",
    "epochs = 40\n",
    "seed = 42                   # random seed\n",
    "print_summary = False"
   ]
  },
  {
   "cell_type": "markdown",
   "metadata": {},
   "source": []
  }
 ],
 "metadata": {
  "kernelspec": {
   "display_name": "gnr_env",
   "language": "python",
   "name": "python3"
  },
  "language_info": {
   "codemirror_mode": {
    "name": "ipython",
    "version": 3
   },
   "file_extension": ".py",
   "mimetype": "text/x-python",
   "name": "python",
   "nbconvert_exporter": "python",
   "pygments_lexer": "ipython3",
   "version": "3.11.4"
  },
  "orig_nbformat": 4
 },
 "nbformat": 4,
 "nbformat_minor": 2
}
